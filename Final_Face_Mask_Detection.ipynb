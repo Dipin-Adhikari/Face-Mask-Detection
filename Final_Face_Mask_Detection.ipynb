{
  "nbformat": 4,
  "nbformat_minor": 0,
  "metadata": {
    "colab": {
      "name": "Final Face Mask Detection.ipynb",
      "provenance": [],
      "mount_file_id": "12dXerBchIk-BYH8KWqS_mrItImWqH9MA",
      "authorship_tag": "ABX9TyOHPiR9zrdF6RhCUu+r1RTk",
      "include_colab_link": true
    },
    "kernelspec": {
      "name": "python3",
      "display_name": "Python 3"
    },
    "language_info": {
      "name": "python"
    }
  },
  "cells": [
    {
      "cell_type": "markdown",
      "metadata": {
        "id": "view-in-github",
        "colab_type": "text"
      },
      "source": [
        "<a href=\"https://colab.research.google.com/github/Dipin-Adhikari/Face-Mask-Detection/blob/main/Final_Face_Mask_Detection.ipynb\" target=\"_parent\"><img src=\"https://colab.research.google.com/assets/colab-badge.svg\" alt=\"Open In Colab\"/></a>"
      ]
    },
    {
      "cell_type": "code",
      "metadata": {
        "id": "puaKoNwZpY01"
      },
      "source": [
        "import os\n",
        "import numpy as np\n",
        "import cv2\n",
        "from sklearn.preprocessing import LabelBinarizer\n",
        "from tensorflow.keras.utils import to_categorical\n",
        "from tensorflow.keras.applications.mobilenet_v2 import preprocess_input\n",
        "from sklearn.model_selection import train_test_split\n",
        "from tensorflow.keras.preprocessing.image import ImageDataGenerator\n",
        "from tensorflow.keras.applications import MobileNetV2\n",
        "from tensorflow.keras.layers import Input, AveragePooling2D, Dropout, Flatten, Dense\n",
        "from tensorflow.keras.models import Model\n",
        "from tensorflow.keras.optimizers import Adam\n",
        "from google.colab.patches import cv2_imshow"
      ],
      "execution_count": null,
      "outputs": []
    },
    {
      "cell_type": "code",
      "metadata": {
        "id": "mgcAwyhppknC"
      },
      "source": [
        "img_directory = \"/content/drive/MyDrive/New dataset for face mask\"\n",
        "categories = [\"with_mask\", \"without_mask\"]\n",
        "data = []\n",
        "labels = []"
      ],
      "execution_count": null,
      "outputs": []
    },
    {
      "cell_type": "code",
      "metadata": {
        "id": "SOCMzWMop_05"
      },
      "source": [
        "for category in categories:\n",
        "    path = os.path.join(img_directory, category)\n",
        "    for i, img_name in enumerate(os.listdir(path)):\n",
        "      img = cv2.imread(os.path.join(img_directory, category, img_name))\n",
        "      img = cv2.cvtColor(img, cv2.COLOR_BGR2RGB)\n",
        "      img = cv2.resize(img, (224, 224))\n",
        "      img = np.array(img)\n",
        "      img = preprocess_input(img)\n",
        "      data.append(img)\n",
        "      labels.append(category)\n",
        "\n",
        "lb = LabelBinarizer()\n",
        "labels = lb.fit_transform(labels)\n",
        "labels = to_categorical(labels)\n"
      ],
      "execution_count": null,
      "outputs": []
    },
    {
      "cell_type": "code",
      "metadata": {
        "id": "Tn7pjXFUqG1w"
      },
      "source": [
        "data = np.array(data, dtype=\"float32\")\n",
        "labels = np.array(labels)\n",
        "\n",
        "(trainX, testX, trainY, testY) = train_test_split(data, labels, test_size=0.20, stratify=labels, random_state=42)\n"
      ],
      "execution_count": null,
      "outputs": []
    },
    {
      "cell_type": "code",
      "metadata": {
        "id": "3UcOd8r8vPiu"
      },
      "source": [
        "aug = ImageDataGenerator(\n",
        "\trotation_range=20,\n",
        "\tzoom_range=0.15,\n",
        "\twidth_shift_range=0.2,\n",
        "\theight_shift_range=0.2,\n",
        "\tshear_range=0.15,\n",
        "\thorizontal_flip=True,\n",
        "\tfill_mode=\"nearest\")"
      ],
      "execution_count": null,
      "outputs": []
    },
    {
      "cell_type": "code",
      "metadata": {
        "colab": {
          "base_uri": "https://localhost:8080/"
        },
        "id": "PCmAEsB7vUSS",
        "outputId": "7e1aab14-a6af-447a-a4ed-a4ddad36bf3e"
      },
      "source": [
        "baseModel = MobileNetV2(weights=\"imagenet\", include_top=False,\n",
        "\tinput_tensor=Input(shape=(224, 224, 3)))"
      ],
      "execution_count": null,
      "outputs": [
        {
          "output_type": "stream",
          "text": [
            "WARNING:tensorflow:`input_shape` is undefined or non-square, or `rows` is not in [96, 128, 160, 192, 224]. Weights for input shape (224, 224) will be loaded as the default.\n",
            "Downloading data from https://storage.googleapis.com/tensorflow/keras-applications/mobilenet_v2/mobilenet_v2_weights_tf_dim_ordering_tf_kernels_1.0_224_no_top.h5\n",
            "9412608/9406464 [==============================] - 0s 0us/step\n"
          ],
          "name": "stdout"
        }
      ]
    },
    {
      "cell_type": "code",
      "metadata": {
        "id": "S0t1_OmdvW9y"
      },
      "source": [
        "headModel = baseModel.output\n",
        "headModel = AveragePooling2D(pool_size=(7, 7))(headModel)\n",
        "headModel = Flatten(name=\"flatten\")(headModel)\n",
        "headModel = Dense(128, activation=\"relu\")(headModel)\n",
        "headModel = Dropout(0.5)(headModel)\n",
        "headModel = Dense(2, activation=\"softmax\")(headModel)"
      ],
      "execution_count": null,
      "outputs": []
    },
    {
      "cell_type": "code",
      "metadata": {
        "id": "DiK6Pb4Rvbqy"
      },
      "source": [
        "model = Model(inputs=baseModel.input, outputs=headModel)"
      ],
      "execution_count": null,
      "outputs": []
    },
    {
      "cell_type": "code",
      "metadata": {
        "id": "btMT-KhHveJP"
      },
      "source": [
        "for layer in baseModel.layers:\n",
        "\tlayer.trainable = False"
      ],
      "execution_count": null,
      "outputs": []
    },
    {
      "cell_type": "code",
      "metadata": {
        "id": "9c6ks6Dovh2s"
      },
      "source": [
        "INIT_LR = 1e-4\n",
        "EPOCHS = 20\n",
        "BS = 32"
      ],
      "execution_count": null,
      "outputs": []
    },
    {
      "cell_type": "code",
      "metadata": {
        "colab": {
          "base_uri": "https://localhost:8080/"
        },
        "id": "dj5O3cCnvm7Z",
        "outputId": "b4e6160a-e4ed-49d8-bcef-073afd984524"
      },
      "source": [
        "opt = Adam(lr=INIT_LR, decay=INIT_LR / EPOCHS)\n",
        "model.compile(loss=\"binary_crossentropy\", optimizer=opt, metrics=[\"accuracy\"])"
      ],
      "execution_count": null,
      "outputs": [
        {
          "output_type": "stream",
          "text": [
            "/usr/local/lib/python3.7/dist-packages/tensorflow/python/keras/optimizer_v2/optimizer_v2.py:375: UserWarning: The `lr` argument is deprecated, use `learning_rate` instead.\n",
            "  \"The `lr` argument is deprecated, use `learning_rate` instead.\")\n"
          ],
          "name": "stderr"
        }
      ]
    },
    {
      "cell_type": "code",
      "metadata": {
        "colab": {
          "base_uri": "https://localhost:8080/"
        },
        "id": "03yw1EtevsZN",
        "outputId": "dc0ac05f-2477-4988-dacc-b1971eb2b7e2"
      },
      "source": [
        "H = model.fit(\n",
        "\taug.flow(trainX, trainY, batch_size=BS),\n",
        "\tsteps_per_epoch=len(trainX) // BS,\n",
        "\tvalidation_data=(testX, testY),\n",
        "\tvalidation_steps=len(testX) // BS,\n",
        "\tepochs=EPOCHS)"
      ],
      "execution_count": null,
      "outputs": [
        {
          "output_type": "stream",
          "text": [
            "Epoch 1/20\n",
            "95/95 [==============================] - 140s 1s/step - loss: 0.3622 - accuracy: 0.8761 - val_loss: 0.1274 - val_accuracy: 0.9739\n",
            "Epoch 2/20\n",
            "95/95 [==============================] - 136s 1s/step - loss: 0.1397 - accuracy: 0.9654 - val_loss: 0.0681 - val_accuracy: 0.9817\n",
            "Epoch 3/20\n",
            "95/95 [==============================] - 135s 1s/step - loss: 0.0894 - accuracy: 0.9763 - val_loss: 0.0467 - val_accuracy: 0.9896\n",
            "Epoch 4/20\n",
            "95/95 [==============================] - 134s 1s/step - loss: 0.0767 - accuracy: 0.9796 - val_loss: 0.0388 - val_accuracy: 0.9922\n",
            "Epoch 5/20\n",
            "95/95 [==============================] - 135s 1s/step - loss: 0.0672 - accuracy: 0.9825 - val_loss: 0.0326 - val_accuracy: 0.9922\n",
            "Epoch 6/20\n",
            "95/95 [==============================] - 135s 1s/step - loss: 0.0521 - accuracy: 0.9845 - val_loss: 0.0309 - val_accuracy: 0.9935\n",
            "Epoch 7/20\n",
            "95/95 [==============================] - 135s 1s/step - loss: 0.0554 - accuracy: 0.9848 - val_loss: 0.0273 - val_accuracy: 0.9948\n",
            "Epoch 8/20\n",
            "95/95 [==============================] - 133s 1s/step - loss: 0.0486 - accuracy: 0.9842 - val_loss: 0.0235 - val_accuracy: 0.9948\n",
            "Epoch 9/20\n",
            "95/95 [==============================] - 136s 1s/step - loss: 0.0461 - accuracy: 0.9858 - val_loss: 0.0232 - val_accuracy: 0.9948\n",
            "Epoch 10/20\n",
            "95/95 [==============================] - 136s 1s/step - loss: 0.0423 - accuracy: 0.9845 - val_loss: 0.0206 - val_accuracy: 0.9948\n",
            "Epoch 11/20\n",
            "95/95 [==============================] - 134s 1s/step - loss: 0.0351 - accuracy: 0.9881 - val_loss: 0.0199 - val_accuracy: 0.9948\n",
            "Epoch 12/20\n",
            "95/95 [==============================] - 134s 1s/step - loss: 0.0388 - accuracy: 0.9891 - val_loss: 0.0196 - val_accuracy: 0.9948\n",
            "Epoch 13/20\n",
            "95/95 [==============================] - 129s 1s/step - loss: 0.0380 - accuracy: 0.9911 - val_loss: 0.0182 - val_accuracy: 0.9948\n",
            "Epoch 14/20\n",
            "95/95 [==============================] - 129s 1s/step - loss: 0.0362 - accuracy: 0.9891 - val_loss: 0.0186 - val_accuracy: 0.9948\n",
            "Epoch 15/20\n",
            "95/95 [==============================] - 129s 1s/step - loss: 0.0309 - accuracy: 0.9908 - val_loss: 0.0194 - val_accuracy: 0.9961\n",
            "Epoch 16/20\n",
            "95/95 [==============================] - 128s 1s/step - loss: 0.0306 - accuracy: 0.9911 - val_loss: 0.0161 - val_accuracy: 0.9948\n",
            "Epoch 17/20\n",
            "95/95 [==============================] - 134s 1s/step - loss: 0.0344 - accuracy: 0.9895 - val_loss: 0.0161 - val_accuracy: 0.9948\n",
            "Epoch 18/20\n",
            "95/95 [==============================] - 128s 1s/step - loss: 0.0317 - accuracy: 0.9904 - val_loss: 0.0176 - val_accuracy: 0.9961\n",
            "Epoch 19/20\n",
            "95/95 [==============================] - 129s 1s/step - loss: 0.0248 - accuracy: 0.9924 - val_loss: 0.0163 - val_accuracy: 0.9961\n",
            "Epoch 20/20\n",
            "95/95 [==============================] - 129s 1s/step - loss: 0.0240 - accuracy: 0.9924 - val_loss: 0.0156 - val_accuracy: 0.9961\n"
          ],
          "name": "stdout"
        }
      ]
    },
    {
      "cell_type": "code",
      "metadata": {
        "colab": {
          "base_uri": "https://localhost:8080/",
          "height": 202
        },
        "id": "XMRO4VV68TSW",
        "outputId": "a2c3982f-fca7-41f8-b695-064dcad7fc88"
      },
      "source": [
        "path = \"/content/drive/MyDrive/Face Mask Dataset/Test/WithMask/1174.png\"\n",
        "\n",
        "img = cv2.imread(path)\n",
        "img = cv2.cvtColor(img, cv2.COLOR_BGR2RGB)\n",
        "img_resize = cv2.resize(img, (224, 224))\n",
        "\n",
        "img_array = np.array(img_resize)\n",
        "\n",
        "final = np.expand_dims(img_array, axis=0)\n",
        "\n",
        "prediction = model.predict(final)\n",
        "\n",
        "cv2_imshow(img)\n",
        "\n",
        "print(prediction)"
      ],
      "execution_count": null,
      "outputs": [
        {
          "output_type": "display_data",
          "data": {
            "image/png": "[encoded data removed]",
            "text/plain": [
              "<PIL.Image.Image image mode=RGB size=168x168 at 0x7F86214D5090>"
            ]
          },
          "metadata": {
            "tags": []
          }
        },
        {
          "output_type": "stream",
          "text": [
            "[[9.9987054e-01 1.2941776e-04]]\n"
          ],
          "name": "stdout"
        }
      ]
    },
    {
      "cell_type": "code",
      "metadata": {
        "id": "y4iJQ0OR8qpP"
      },
      "source": [
        ""
      ],
      "execution_count": null,
      "outputs": []
    }
  ]
}